{
 "cells": [
  {
   "cell_type": "code",
   "execution_count": 10,
   "id": "20d9710a-ab9c-434e-8f43-143407fc6053",
   "metadata": {},
   "outputs": [],
   "source": [
    "import spotipy\n",
    "from spotipy.oauth2 import SpotifyClientCredentials\n",
    "import networkx as nx\n",
    "import matplotlib.pyplot as plt\n",
    "from collections import Counter"
   ]
  },
  {
   "cell_type": "code",
   "execution_count": null,
   "id": "8233a5fd-816f-4e27-bde5-3d6b8217e93a",
   "metadata": {},
   "outputs": [],
   "source": [
    "# Spotify API creditionals\n",
    "client_id = \"Your Client ID\"\n",
    "client_secret = \"Your Client Password\"\n",
    "# API authentication\n",
    "cred_manager = SpotifyClientCredentials(client_id=client_id, client_secret=client_secret)\n",
    "sp = spotipy.Spotify(client_credentials_manager=cred_manager)"
   ]
  },
  {
   "cell_type": "code",
   "execution_count": null,
   "id": "35d743e0-ad20-4bf9-87db-e3d0f201be6e",
   "metadata": {},
   "outputs": [],
   "source": [
    "# function to get the artsists' IDs\n",
    "def get_artist_id(artist_name):\n",
    "    result = sp.search(q=artist_name, type=\"artist\", limit=1) # search for artist name\n",
    "    if result['artists']['items']:\n",
    "        artist_id = result['artists']['items'][0]['id'] # get id from spotify\n",
    "        return artist_id\n",
    "    else: \n",
    "        print(f\" The artist {artist_name} was not found\")\n",
    "        return None"
   ]
  },
  {
   "cell_type": "code",
   "execution_count": null,
   "id": "58420024-9712-46ad-badb-6061ffdfd05b",
   "metadata": {},
   "outputs": [],
   "source": [
    "# function to find artists who worked w/ given artist by checking featured tracks\n",
    "def get_collaborating_artists(artist_id):\n",
    "    collaborations = set()\n",
    "    \n",
    "    # get top tracks of the artist\n",
    "    top_tracks = sp.artist_top_tracks(artist_id)['tracks']\n",
    "    \n",
    "    for track in top_tracks:\n",
    "        for artist in track['artists']:\n",
    "            if artist['id'] != artist_id:  # to avoid self-links\n",
    "                collaborations.add(artist['id'])\n",
    "    \n",
    "    return collaborations"
   ]
  },
  {
   "cell_type": "code",
   "execution_count": null,
   "id": "9fa31f3f-39ee-4dac-8097-9df7fc4837cf",
   "metadata": {},
   "outputs": [],
   "source": [
    "# function to beuild artist collaboration network \n",
    "# starts from a given artist\n",
    "def build_collaboration_graph(given_artist):\n",
    "    G = nx.Graph()\n",
    "    \n",
    "    given_artist_id = get_artist_id(given_artist)\n",
    "    if not given_artist_id:\n",
    "        print(\"Artist not found.\")\n",
    "        return None\n",
    "    \n",
    "    # add the given artist as a starting node\n",
    "    G.add_node(given_artist)\n",
    "    \n",
    "    # get direct collaborators\n",
    "    collaborators = get_collaborating_artists(given_artist_id)\n",
    "    \n",
    "    for collab_id in collaborators:\n",
    "        collab_name = sp.artist(collab_id)['name']\n",
    "        G.add_node(collab_name)\n",
    "        G.add_edge(given_artist, collab_name)\n",
    "    \n",
    "        # expand the network from there with collaborators of the collaborators\n",
    "        second_degree_collabs = get_collaborating_artists(collab_id)\n",
    "        for second_collab_id in second_degree_collabs:\n",
    "            second_collab_name = sp.artist(second_collab_id)['name']\n",
    "            G.add_node(second_collab_name)\n",
    "            G.add_edge(collab_name, second_collab_name)\n",
    "            \n",
    "    print(f\"Network built - total artists: {len(G.nodes)} and total connections: {len(G.edges)}\")\n",
    "    return G"
   ]
  },
  {
   "cell_type": "code",
   "execution_count": null,
   "id": "a31a8cbb-8ba9-4801-8e79-34d6dbf5b6e5",
   "metadata": {},
   "outputs": [],
   "source": [
    "# function to find artist with highest degree centrality\n",
    "def most_connected_artist(G, n=3):\n",
    "    if G is None:\n",
    "        return None\n",
    "\n",
    "    degree_counts = dict(G.degree())\n",
    "    most_connected = sorted(degree_counts.items(), key=lambda x: x[1], reverse=True)[:n]\n",
    "    \n",
    "    print(f\"The top {n} most collaberative artists in this network are:\")\n",
    "    for artist, degree in most_connected:\n",
    "        print(f\"{artist} with {degree} collaberations\")\n",
    "    return most_connected"
   ]
  },
  {
   "cell_type": "code",
   "execution_count": null,
   "id": "0ca6eec0-c493-4dd1-bb99-2f7fddd38b2b",
   "metadata": {},
   "outputs": [],
   "source": [
    "# function to visualize the artist collaborations on spotify \n",
    "def visualize_network(G):\n",
    "    if G is None:\n",
    "        return\n",
    "    \n",
    "    plt.figure(figsize=(10, 7))\n",
    "    pos = nx.spring_layout(G)\n",
    "    nx.draw(G, pos, with_labels=True, node_color=\"lightblue\", edge_color=\"gray\", font_size=8, node_size=500)\n",
    "    plt.title(\"Spotify Artist Collaboration Network\")\n",
    "    plt.show()"
   ]
  },
  {
   "cell_type": "code",
   "execution_count": null,
   "id": "00e7def1-6079-4db8-85b2-41f6922c8b0a",
   "metadata": {},
   "outputs": [],
   "source": [
    "# choose a starting artist \n",
    "given_artist = \"Saint Levant\"\n",
    "\n",
    "# build the network\n",
    "G = build_collaboration_graph(given_artist)\n",
    "\n",
    "# find the most collaborative artist\n",
    "most_connected_artist(G)\n",
    "\n",
    "# visualize the network\n",
    "visualize_network(G)"
   ]
  },
  {
   "cell_type": "code",
   "execution_count": null,
   "id": "f52e3d85-591f-4d70-9bbe-150996fdc007",
   "metadata": {},
   "outputs": [],
   "source": []
  }
 ],
 "metadata": {
  "kernelspec": {
   "display_name": "Python 3 (ipykernel)",
   "language": "python",
   "name": "python3"
  },
  "language_info": {
   "codemirror_mode": {
    "name": "ipython",
    "version": 3
   },
   "file_extension": ".py",
   "mimetype": "text/x-python",
   "name": "python",
   "nbconvert_exporter": "python",
   "pygments_lexer": "ipython3",
   "version": "3.12.4"
  }
 },
 "nbformat": 4,
 "nbformat_minor": 5
}
